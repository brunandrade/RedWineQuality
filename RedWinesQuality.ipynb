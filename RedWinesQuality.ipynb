{
  "nbformat": 4,
  "nbformat_minor": 0,
  "metadata": {
    "colab": {
      "name": "RedWinesQuality.ipynb",
      "provenance": [],
      "collapsed_sections": [],
      "include_colab_link": true
    },
    "kernelspec": {
      "name": "python3",
      "display_name": "Python 3"
    }
  },
  "cells": [
    {
      "cell_type": "markdown",
      "metadata": {
        "id": "view-in-github",
        "colab_type": "text"
      },
      "source": [
        "<a href=\"https://colab.research.google.com/github/brunandrade/RedWineQuality/blob/master/RedWinesQuality.ipynb\" target=\"_parent\"><img src=\"https://colab.research.google.com/assets/colab-badge.svg\" alt=\"Open In Colab\"/></a>"
      ]
    },
    {
      "cell_type": "code",
      "metadata": {
        "id": "oIvhmnYwQMH9",
        "colab_type": "code",
        "colab": {}
      },
      "source": [
        "!pip uninstall tensorflow==2.0\n",
        "!pip install tensorflow==1.14"
      ],
      "execution_count": 0,
      "outputs": []
    },
    {
      "cell_type": "code",
      "metadata": {
        "id": "sv_2z76WUSk_",
        "colab_type": "code",
        "colab": {}
      },
      "source": [
        "!pip install -q seaborn"
      ],
      "execution_count": 0,
      "outputs": []
    },
    {
      "cell_type": "code",
      "metadata": {
        "id": "Xy8GyiKQUs73",
        "colab_type": "code",
        "colab": {}
      },
      "source": [
        "!pip install git+https://github.com/tensorflow/docs"
      ],
      "execution_count": 0,
      "outputs": []
    },
    {
      "cell_type": "code",
      "metadata": {
        "id": "Nri8ASyiQugb",
        "colab_type": "code",
        "colab": {}
      },
      "source": [
        "from __future__ import absolute_import, division, print_function, unicode_literals\n",
        "import pathlib\n",
        "import matplotlib.pyplot as plt\n",
        "import numpy as np\n",
        "import pandas as pd\n",
        "import seaborn as sns\n",
        "import tensorflow as tf\n",
        "from tensorflow import keras\n",
        "from tensorflow.keras import layers\n",
        "from sklearn.model_selection import train_test_split\n",
        "from sklearn.preprocessing import normalize\n",
        "from keras import Sequential\n",
        "import tensorflow_docs as tfdocs\n",
        "import tensorflow_docs.plots\n",
        "import tensorflow_docs.modeling"
      ],
      "execution_count": 0,
      "outputs": []
    },
    {
      "cell_type": "code",
      "metadata": {
        "id": "0V-Q6H1xU6sw",
        "colab_type": "code",
        "outputId": "83874c6e-2d6e-4416-e0a8-46c4b87b9ae9",
        "colab": {
          "base_uri": "https://localhost:8080/",
          "height": 206
        }
      },
      "source": [
        "#df=pd.read_csv('winequality-red.csv')\n",
        "df = pd.read_csv('winequality-red.csv', low_memory=False, sep=';')\n",
        "df.head()"
      ],
      "execution_count": 6,
      "outputs": [
        {
          "output_type": "execute_result",
          "data": {
            "text/html": [
              "<div>\n",
              "<style scoped>\n",
              "    .dataframe tbody tr th:only-of-type {\n",
              "        vertical-align: middle;\n",
              "    }\n",
              "\n",
              "    .dataframe tbody tr th {\n",
              "        vertical-align: top;\n",
              "    }\n",
              "\n",
              "    .dataframe thead th {\n",
              "        text-align: right;\n",
              "    }\n",
              "</style>\n",
              "<table border=\"1\" class=\"dataframe\">\n",
              "  <thead>\n",
              "    <tr style=\"text-align: right;\">\n",
              "      <th></th>\n",
              "      <th>fixed acidity</th>\n",
              "      <th>volatile acidity</th>\n",
              "      <th>citric acid</th>\n",
              "      <th>residual sugar</th>\n",
              "      <th>chlorides</th>\n",
              "      <th>free sulfur dioxide</th>\n",
              "      <th>total sulfur dioxide</th>\n",
              "      <th>density</th>\n",
              "      <th>pH</th>\n",
              "      <th>sulphates</th>\n",
              "      <th>alcohol</th>\n",
              "      <th>quality</th>\n",
              "    </tr>\n",
              "  </thead>\n",
              "  <tbody>\n",
              "    <tr>\n",
              "      <th>0</th>\n",
              "      <td>7.4</td>\n",
              "      <td>0.70</td>\n",
              "      <td>0.00</td>\n",
              "      <td>1.9</td>\n",
              "      <td>0.076</td>\n",
              "      <td>11.0</td>\n",
              "      <td>34.0</td>\n",
              "      <td>0.9978</td>\n",
              "      <td>3.51</td>\n",
              "      <td>0.56</td>\n",
              "      <td>9.4</td>\n",
              "      <td>5</td>\n",
              "    </tr>\n",
              "    <tr>\n",
              "      <th>1</th>\n",
              "      <td>7.8</td>\n",
              "      <td>0.88</td>\n",
              "      <td>0.00</td>\n",
              "      <td>2.6</td>\n",
              "      <td>0.098</td>\n",
              "      <td>25.0</td>\n",
              "      <td>67.0</td>\n",
              "      <td>0.9968</td>\n",
              "      <td>3.20</td>\n",
              "      <td>0.68</td>\n",
              "      <td>9.8</td>\n",
              "      <td>5</td>\n",
              "    </tr>\n",
              "    <tr>\n",
              "      <th>2</th>\n",
              "      <td>7.8</td>\n",
              "      <td>0.76</td>\n",
              "      <td>0.04</td>\n",
              "      <td>2.3</td>\n",
              "      <td>0.092</td>\n",
              "      <td>15.0</td>\n",
              "      <td>54.0</td>\n",
              "      <td>0.9970</td>\n",
              "      <td>3.26</td>\n",
              "      <td>0.65</td>\n",
              "      <td>9.8</td>\n",
              "      <td>5</td>\n",
              "    </tr>\n",
              "    <tr>\n",
              "      <th>3</th>\n",
              "      <td>11.2</td>\n",
              "      <td>0.28</td>\n",
              "      <td>0.56</td>\n",
              "      <td>1.9</td>\n",
              "      <td>0.075</td>\n",
              "      <td>17.0</td>\n",
              "      <td>60.0</td>\n",
              "      <td>0.9980</td>\n",
              "      <td>3.16</td>\n",
              "      <td>0.58</td>\n",
              "      <td>9.8</td>\n",
              "      <td>6</td>\n",
              "    </tr>\n",
              "    <tr>\n",
              "      <th>4</th>\n",
              "      <td>7.4</td>\n",
              "      <td>0.70</td>\n",
              "      <td>0.00</td>\n",
              "      <td>1.9</td>\n",
              "      <td>0.076</td>\n",
              "      <td>11.0</td>\n",
              "      <td>34.0</td>\n",
              "      <td>0.9978</td>\n",
              "      <td>3.51</td>\n",
              "      <td>0.56</td>\n",
              "      <td>9.4</td>\n",
              "      <td>5</td>\n",
              "    </tr>\n",
              "  </tbody>\n",
              "</table>\n",
              "</div>"
            ],
            "text/plain": [
              "   fixed acidity  volatile acidity  citric acid  ...  sulphates  alcohol  quality\n",
              "0            7.4              0.70         0.00  ...       0.56      9.4        5\n",
              "1            7.8              0.88         0.00  ...       0.68      9.8        5\n",
              "2            7.8              0.76         0.04  ...       0.65      9.8        5\n",
              "3           11.2              0.28         0.56  ...       0.58      9.8        6\n",
              "4            7.4              0.70         0.00  ...       0.56      9.4        5\n",
              "\n",
              "[5 rows x 12 columns]"
            ]
          },
          "metadata": {
            "tags": []
          },
          "execution_count": 6
        }
      ]
    },
    {
      "cell_type": "code",
      "metadata": {
        "id": "mhp9zRJhVEVx",
        "colab_type": "code",
        "outputId": "255fc48c-778c-452f-eb0b-c460f839dcf5",
        "colab": {
          "base_uri": "https://localhost:8080/",
          "height": 35
        }
      },
      "source": [
        "# Limpa espaços em branco\n",
        "df.isna().sum() if (df.isna().sum()).any()>0 else \"Base de dados Sem espaços em branco.\""
      ],
      "execution_count": 7,
      "outputs": [
        {
          "output_type": "execute_result",
          "data": {
            "text/plain": [
              "'Base de dados Sem espaços em branco.'"
            ]
          },
          "metadata": {
            "tags": []
          },
          "execution_count": 7
        }
      ]
    },
    {
      "cell_type": "code",
      "metadata": {
        "id": "9ZfnPGYRVlM1",
        "colab_type": "code",
        "outputId": "6f73473f-af90-4169-f783-d6b3823cdd35",
        "colab": {
          "base_uri": "https://localhost:8080/",
          "height": 35
        }
      },
      "source": [
        "# Pega a média da coluna de qualidade\n",
        "df['quality'].mean()"
      ],
      "execution_count": 8,
      "outputs": [
        {
          "output_type": "execute_result",
          "data": {
            "text/plain": [
              "5.6360225140712945"
            ]
          },
          "metadata": {
            "tags": []
          },
          "execution_count": 8
        }
      ]
    },
    {
      "cell_type": "code",
      "metadata": {
        "id": "abXyqV58VGq3",
        "colab_type": "code",
        "colab": {}
      },
      "source": [
        "# Retorna uma amostra aleatória de itens da base de dados.\n",
        "# Parametro frac retorna uma amostra aleatória de 80% da base de dados.\n",
        "# Seed para o gerador de números aleatórios.\n",
        "train_dataset = df.sample(frac=0.8,random_state=0)\n",
        "\n",
        "# Separa as datasets de treinamento da de teste.\n",
        "test_dataset = df.drop(train_dataset.index)"
      ],
      "execution_count": 0,
      "outputs": []
    },
    {
      "cell_type": "code",
      "metadata": {
        "id": "DZvTGb2kVeHb",
        "colab_type": "code",
        "colab": {}
      },
      "source": [
        "# Remove a coluna de Qualidade em ambos datasets.\n",
        "train_labels = train_dataset.pop('quality')\n",
        "test_labels = test_dataset.pop('quality')"
      ],
      "execution_count": 0,
      "outputs": []
    },
    {
      "cell_type": "code",
      "metadata": {
        "id": "G5A9QyvfWGMR",
        "colab_type": "code",
        "colab": {}
      },
      "source": [
        "# Retorna uma cópia normalizada dos datasets.\n",
        "normed_train_data = normalize(train_dataset)\n",
        "normed_test_data = normalize(test_dataset)"
      ],
      "execution_count": 0,
      "outputs": []
    },
    {
      "cell_type": "code",
      "metadata": {
        "id": "zJ-CbHqhWKS4",
        "colab_type": "code",
        "colab": {}
      },
      "source": [
        "# Criação de camadas da MLP]\n",
        "# A quantidade de neurônios por camada está definida no incio do Dense;\n",
        "# Função de ativação utilizada: RELU;\n",
        "# Foram criadas 5 camadas: A primeira de entrada, Três ocultas e a última de Saída.\n",
        "def build_model():\n",
        "  model = keras.Sequential([\n",
        "    layers.Dense(64, activation='relu', input_shape=[len(train_dataset.keys())]),\n",
        "    layers.Dense(128, activation='relu'),\n",
        "    layers.Dense(32, activation='relu'),\n",
        "    layers.Dense(16, activation='relu'),\n",
        "    layers.Dense(1)\n",
        "  ])\n",
        "\n",
        "# Configura o Modelo para treinamento.\n",
        "# Loss: mean squared error (erro quadrático médio);\n",
        "# Metrics: mean absolute error (erro absoluto médio) \n",
        "# e mean squared error (erro quadrático médio)\n",
        "  model.compile(loss='mse',optimizer='adam',metrics=['mae', 'mse'])\n",
        "  return model"
      ],
      "execution_count": 0,
      "outputs": []
    },
    {
      "cell_type": "code",
      "metadata": {
        "id": "z5nAYlaCWqZJ",
        "colab_type": "code",
        "outputId": "8a130b83-a724-4961-94c6-2c37ffaed7d7",
        "colab": {
          "base_uri": "https://localhost:8080/",
          "height": 91
        }
      },
      "source": [
        "# Constrói o modelo.\n",
        "model = build_model()"
      ],
      "execution_count": 13,
      "outputs": [
        {
          "output_type": "stream",
          "text": [
            "WARNING:tensorflow:From /usr/local/lib/python3.6/dist-packages/tensorflow/python/ops/init_ops.py:1251: calling VarianceScaling.__init__ (from tensorflow.python.ops.init_ops) with dtype is deprecated and will be removed in a future version.\n",
            "Instructions for updating:\n",
            "Call initializer instance with the dtype argument instead of passing it to the constructor\n"
          ],
          "name": "stdout"
        }
      ]
    },
    {
      "cell_type": "code",
      "metadata": {
        "id": "SndNmvkuWutT",
        "colab_type": "code",
        "outputId": "d2d95afb-0fc3-4ea3-cc0c-a1562ece0f4f",
        "colab": {
          "base_uri": "https://localhost:8080/",
          "height": 392
        }
      },
      "source": [
        "# Printa de 100 em 100 Épocas os valores de perda, média de erro absoluto, média de erro quadrático.\n",
        "history = model.fit(normed_train_data, train_labels,epochs=1000, validation_split = 0.2, verbose=0, callbacks=[tfdocs.modeling.EpochDots()])"
      ],
      "execution_count": 14,
      "outputs": [
        {
          "output_type": "stream",
          "text": [
            "\n",
            "Epoch: 0, loss:23.2209,  mean_absolute_error:4.6933,  mean_squared_error:23.2209,  val_loss:8.9609,  val_mean_absolute_error:2.8696,  val_mean_squared_error:8.9609,  \n",
            "....................................................................................................\n",
            "Epoch: 100, loss:0.4607,  mean_absolute_error:0.5402,  mean_squared_error:0.4607,  val_loss:0.4986,  val_mean_absolute_error:0.5508,  val_mean_squared_error:0.4986,  \n",
            "....................................................................................................\n",
            "Epoch: 200, loss:0.3996,  mean_absolute_error:0.5022,  mean_squared_error:0.3996,  val_loss:0.4709,  val_mean_absolute_error:0.5245,  val_mean_squared_error:0.4709,  \n",
            "....................................................................................................\n",
            "Epoch: 300, loss:0.3873,  mean_absolute_error:0.4906,  mean_squared_error:0.3873,  val_loss:0.4634,  val_mean_absolute_error:0.5075,  val_mean_squared_error:0.4634,  \n",
            "....................................................................................................\n",
            "Epoch: 400, loss:0.3707,  mean_absolute_error:0.4727,  mean_squared_error:0.3707,  val_loss:0.4486,  val_mean_absolute_error:0.5129,  val_mean_squared_error:0.4486,  \n",
            "....................................................................................................\n",
            "Epoch: 500, loss:0.3675,  mean_absolute_error:0.4693,  mean_squared_error:0.3675,  val_loss:0.4551,  val_mean_absolute_error:0.4982,  val_mean_squared_error:0.4551,  \n",
            "....................................................................................................\n",
            "Epoch: 600, loss:0.3498,  mean_absolute_error:0.4609,  mean_squared_error:0.3498,  val_loss:0.4542,  val_mean_absolute_error:0.5046,  val_mean_squared_error:0.4542,  \n",
            "....................................................................................................\n",
            "Epoch: 700, loss:0.3292,  mean_absolute_error:0.4513,  mean_squared_error:0.3292,  val_loss:0.4382,  val_mean_absolute_error:0.5126,  val_mean_squared_error:0.4382,  \n",
            "....................................................................................................\n",
            "Epoch: 800, loss:0.3180,  mean_absolute_error:0.4397,  mean_squared_error:0.3180,  val_loss:0.4429,  val_mean_absolute_error:0.5140,  val_mean_squared_error:0.4429,  \n",
            "....................................................................................................\n",
            "Epoch: 900, loss:0.3090,  mean_absolute_error:0.4340,  mean_squared_error:0.3090,  val_loss:0.4329,  val_mean_absolute_error:0.5035,  val_mean_squared_error:0.4329,  \n",
            "...................................................................................................."
          ],
          "name": "stdout"
        }
      ]
    },
    {
      "cell_type": "code",
      "metadata": {
        "id": "5RbgAMqGeQBX",
        "colab_type": "code",
        "outputId": "68c76786-62cf-42d9-f0a5-8eb6527fc756",
        "colab": {
          "base_uri": "https://localhost:8080/",
          "height": 283
        }
      },
      "source": [
        "test_predictions = model.predict(normed_test_data).flatten()\n",
        "\n",
        "a = plt.axes(aspect='equal')\n",
        "plt.scatter(test_labels, test_predictions)\n",
        "plt.xlabel('Valores reais [Quality Score]')\n",
        "plt.ylabel('Valores preditos [Quality Score]')\n",
        "lims = [0, 10]\n",
        "plt.xlim(lims)\n",
        "plt.ylim(lims)\n",
        "_ = plt.plot(lims, lims)"
      ],
      "execution_count": 21,
      "outputs": [
        {
          "output_type": "display_data",
          "data": {
            "image/png": "[encoded data removed]",
            "text/plain": [
              "<Figure size 432x288 with 1 Axes>"
            ]
          },
          "metadata": {
            "tags": [],
            "needs_background": "light"
          }
        }
      ]
    },
    {
      "cell_type": "code",
      "metadata": {
        "id": "Jh-TCjK5eSPU",
        "colab_type": "code",
        "outputId": "642d68e9-61f1-4510-8b29-69071182dd22",
        "colab": {
          "base_uri": "https://localhost:8080/",
          "height": 35
        }
      },
      "source": [
        "test_predictions.min()"
      ],
      "execution_count": 22,
      "outputs": [
        {
          "output_type": "execute_result",
          "data": {
            "text/plain": [
              "3.9925218"
            ]
          },
          "metadata": {
            "tags": []
          },
          "execution_count": 22
        }
      ]
    },
    {
      "cell_type": "code",
      "metadata": {
        "id": "rg0n7TsfeXMb",
        "colab_type": "code",
        "outputId": "63c24ad6-e10c-44d6-9339-a8aa6760a290",
        "colab": {
          "base_uri": "https://localhost:8080/",
          "height": 35
        }
      },
      "source": [
        "test_predictions.mean()"
      ],
      "execution_count": 23,
      "outputs": [
        {
          "output_type": "execute_result",
          "data": {
            "text/plain": [
              "5.818587"
            ]
          },
          "metadata": {
            "tags": []
          },
          "execution_count": 23
        }
      ]
    },
    {
      "cell_type": "code",
      "metadata": {
        "id": "Otnwtw3HeaV9",
        "colab_type": "code",
        "outputId": "e2360750-b828-4fba-8357-f9fa03658c63",
        "colab": {
          "base_uri": "https://localhost:8080/",
          "height": 35
        }
      },
      "source": [
        "test_predictions.max()"
      ],
      "execution_count": 24,
      "outputs": [
        {
          "output_type": "execute_result",
          "data": {
            "text/plain": [
              "8.123411"
            ]
          },
          "metadata": {
            "tags": []
          },
          "execution_count": 24
        }
      ]
    }
  ]
}