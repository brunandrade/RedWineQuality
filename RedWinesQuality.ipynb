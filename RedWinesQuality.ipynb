{
  "nbformat": 4,
  "nbformat_minor": 0,
  "metadata": {
    "colab": {
      "name": "RedWinesQuality.ipynb",
      "provenance": [],
      "collapsed_sections": [],
      "include_colab_link": true
    },
    "kernelspec": {
      "name": "python3",
      "display_name": "Python 3"
    }
  },
  "cells": [
    {
      "cell_type": "markdown",
      "metadata": {
        "id": "view-in-github",
        "colab_type": "text"
      },
      "source": [
        "<a href=\"https://colab.research.google.com/github/brunandrade/RedWineQuality/blob/master/RedWinesQuality.ipynb\" target=\"_parent\"><img src=\"https://colab.research.google.com/assets/colab-badge.svg\" alt=\"Open In Colab\"/></a>"
      ]
    },
    {
      "cell_type": "code",
      "metadata": {
        "id": "oIvhmnYwQMH9",
        "colab_type": "code",
        "colab": {}
      },
      "source": [
        "!pip uninstall tensorflow==2.0\n",
        "!pip install tensorflow==1.14"
      ],
      "execution_count": 0,
      "outputs": []
    },
    {
      "cell_type": "code",
      "metadata": {
        "id": "sv_2z76WUSk_",
        "colab_type": "code",
        "colab": {}
      },
      "source": [
        "!pip install -q seaborn"
      ],
      "execution_count": 0,
      "outputs": []
    },
    {
      "cell_type": "code",
      "metadata": {
        "id": "Xy8GyiKQUs73",
        "colab_type": "code",
        "colab": {}
      },
      "source": [
        "!pip install git+https://github.com/tensorflow/docs"
      ],
      "execution_count": 0,
      "outputs": []
    },
    {
      "cell_type": "code",
      "metadata": {
        "id": "Nri8ASyiQugb",
        "colab_type": "code",
        "colab": {}
      },
      "source": [
        "from __future__ import absolute_import, division, print_function, unicode_literals\n",
        "import pathlib\n",
        "import matplotlib.pyplot as plt\n",
        "import numpy as np\n",
        "import pandas as pd\n",
        "import seaborn as sns\n",
        "import tensorflow as tf\n",
        "from tensorflow import keras\n",
        "from tensorflow.keras import layers\n",
        "from sklearn.model_selection import train_test_split\n",
        "from sklearn.preprocessing import normalize\n",
        "from keras import Sequential\n",
        "import tensorflow_docs as tfdocs\n",
        "import tensorflow_docs.plots\n",
        "import tensorflow_docs.modeling"
      ],
      "execution_count": 0,
      "outputs": []
    },
    {
      "cell_type": "code",
      "metadata": {
        "id": "0V-Q6H1xU6sw",
        "colab_type": "code",
        "outputId": "6b7c8760-280a-4b1f-d6b8-aafae00e0679",
        "colab": {
          "base_uri": "https://localhost:8080/",
          "height": 206
        }
      },
      "source": [
        "#df=pd.read_csv('winequality-red.csv')\n",
        "df = pd.read_csv('winequality-red.csv', low_memory=False, sep=';')\n",
        "df.head()"
      ],
      "execution_count": 6,
      "outputs": [
        {
          "output_type": "execute_result",
          "data": {
            "text/html": [
              "<div>\n",
              "<style scoped>\n",
              "    .dataframe tbody tr th:only-of-type {\n",
              "        vertical-align: middle;\n",
              "    }\n",
              "\n",
              "    .dataframe tbody tr th {\n",
              "        vertical-align: top;\n",
              "    }\n",
              "\n",
              "    .dataframe thead th {\n",
              "        text-align: right;\n",
              "    }\n",
              "</style>\n",
              "<table border=\"1\" class=\"dataframe\">\n",
              "  <thead>\n",
              "    <tr style=\"text-align: right;\">\n",
              "      <th></th>\n",
              "      <th>fixed acidity</th>\n",
              "      <th>volatile acidity</th>\n",
              "      <th>citric acid</th>\n",
              "      <th>residual sugar</th>\n",
              "      <th>chlorides</th>\n",
              "      <th>free sulfur dioxide</th>\n",
              "      <th>total sulfur dioxide</th>\n",
              "      <th>density</th>\n",
              "      <th>pH</th>\n",
              "      <th>sulphates</th>\n",
              "      <th>alcohol</th>\n",
              "      <th>quality</th>\n",
              "    </tr>\n",
              "  </thead>\n",
              "  <tbody>\n",
              "    <tr>\n",
              "      <th>0</th>\n",
              "      <td>7.4</td>\n",
              "      <td>0.70</td>\n",
              "      <td>0.00</td>\n",
              "      <td>1.9</td>\n",
              "      <td>0.076</td>\n",
              "      <td>11.0</td>\n",
              "      <td>34.0</td>\n",
              "      <td>0.9978</td>\n",
              "      <td>3.51</td>\n",
              "      <td>0.56</td>\n",
              "      <td>9.4</td>\n",
              "      <td>5</td>\n",
              "    </tr>\n",
              "    <tr>\n",
              "      <th>1</th>\n",
              "      <td>7.8</td>\n",
              "      <td>0.88</td>\n",
              "      <td>0.00</td>\n",
              "      <td>2.6</td>\n",
              "      <td>0.098</td>\n",
              "      <td>25.0</td>\n",
              "      <td>67.0</td>\n",
              "      <td>0.9968</td>\n",
              "      <td>3.20</td>\n",
              "      <td>0.68</td>\n",
              "      <td>9.8</td>\n",
              "      <td>5</td>\n",
              "    </tr>\n",
              "    <tr>\n",
              "      <th>2</th>\n",
              "      <td>7.8</td>\n",
              "      <td>0.76</td>\n",
              "      <td>0.04</td>\n",
              "      <td>2.3</td>\n",
              "      <td>0.092</td>\n",
              "      <td>15.0</td>\n",
              "      <td>54.0</td>\n",
              "      <td>0.9970</td>\n",
              "      <td>3.26</td>\n",
              "      <td>0.65</td>\n",
              "      <td>9.8</td>\n",
              "      <td>5</td>\n",
              "    </tr>\n",
              "    <tr>\n",
              "      <th>3</th>\n",
              "      <td>11.2</td>\n",
              "      <td>0.28</td>\n",
              "      <td>0.56</td>\n",
              "      <td>1.9</td>\n",
              "      <td>0.075</td>\n",
              "      <td>17.0</td>\n",
              "      <td>60.0</td>\n",
              "      <td>0.9980</td>\n",
              "      <td>3.16</td>\n",
              "      <td>0.58</td>\n",
              "      <td>9.8</td>\n",
              "      <td>6</td>\n",
              "    </tr>\n",
              "    <tr>\n",
              "      <th>4</th>\n",
              "      <td>7.4</td>\n",
              "      <td>0.70</td>\n",
              "      <td>0.00</td>\n",
              "      <td>1.9</td>\n",
              "      <td>0.076</td>\n",
              "      <td>11.0</td>\n",
              "      <td>34.0</td>\n",
              "      <td>0.9978</td>\n",
              "      <td>3.51</td>\n",
              "      <td>0.56</td>\n",
              "      <td>9.4</td>\n",
              "      <td>5</td>\n",
              "    </tr>\n",
              "  </tbody>\n",
              "</table>\n",
              "</div>"
            ],
            "text/plain": [
              "   fixed acidity  volatile acidity  citric acid  ...  sulphates  alcohol  quality\n",
              "0            7.4              0.70         0.00  ...       0.56      9.4        5\n",
              "1            7.8              0.88         0.00  ...       0.68      9.8        5\n",
              "2            7.8              0.76         0.04  ...       0.65      9.8        5\n",
              "3           11.2              0.28         0.56  ...       0.58      9.8        6\n",
              "4            7.4              0.70         0.00  ...       0.56      9.4        5\n",
              "\n",
              "[5 rows x 12 columns]"
            ]
          },
          "metadata": {
            "tags": []
          },
          "execution_count": 6
        }
      ]
    },
    {
      "cell_type": "code",
      "metadata": {
        "id": "mhp9zRJhVEVx",
        "colab_type": "code",
        "outputId": "6a3abf90-66b9-446f-b6da-e11e49bb54d4",
        "colab": {
          "base_uri": "https://localhost:8080/",
          "height": 35
        }
      },
      "source": [
        "# Limpa espaços em branco\n",
        "df.isna().sum() if (df.isna().sum()).any()>0 else \"Base de dados Sem espaços em branco.\""
      ],
      "execution_count": 7,
      "outputs": [
        {
          "output_type": "execute_result",
          "data": {
            "text/plain": [
              "'Base de dados Sem espaços em branco.'"
            ]
          },
          "metadata": {
            "tags": []
          },
          "execution_count": 7
        }
      ]
    },
    {
      "cell_type": "code",
      "metadata": {
        "id": "9ZfnPGYRVlM1",
        "colab_type": "code",
        "outputId": "517d4959-5673-4dae-bced-be77c7693647",
        "colab": {
          "base_uri": "https://localhost:8080/",
          "height": 35
        }
      },
      "source": [
        "# Pega a média da coluna de qualidade\n",
        "df['quality'].mean()"
      ],
      "execution_count": 8,
      "outputs": [
        {
          "output_type": "execute_result",
          "data": {
            "text/plain": [
              "5.6360225140712945"
            ]
          },
          "metadata": {
            "tags": []
          },
          "execution_count": 8
        }
      ]
    },
    {
      "cell_type": "code",
      "metadata": {
        "id": "abXyqV58VGq3",
        "colab_type": "code",
        "colab": {}
      },
      "source": [
        "# Retorna uma amostra aleatória de itens da base de dados.\n",
        "# Parametro frac retorna uma amostra aleatória de 80% da base de dados.\n",
        "# Seed para o gerador de números aleatórios.\n",
        "train_dataset = df.sample(frac=0.8,random_state=0)\n",
        "\n",
        "# Separa as datasets de treinamento da de teste.\n",
        "test_dataset = df.drop(train_dataset.index)"
      ],
      "execution_count": 0,
      "outputs": []
    },
    {
      "cell_type": "code",
      "metadata": {
        "id": "DZvTGb2kVeHb",
        "colab_type": "code",
        "colab": {}
      },
      "source": [
        "# Remove a coluna de Qualidade em ambos datasets.\n",
        "train_labels = train_dataset.pop('quality')\n",
        "test_labels = test_dataset.pop('quality')"
      ],
      "execution_count": 0,
      "outputs": []
    },
    {
      "cell_type": "code",
      "metadata": {
        "id": "G5A9QyvfWGMR",
        "colab_type": "code",
        "colab": {}
      },
      "source": [
        "# Retorna uma cópia normalizada dos datasets.\n",
        "normed_train_data = normalize(train_dataset)\n",
        "normed_test_data = normalize(test_dataset)"
      ],
      "execution_count": 0,
      "outputs": []
    },
    {
      "cell_type": "code",
      "metadata": {
        "id": "zJ-CbHqhWKS4",
        "colab_type": "code",
        "colab": {}
      },
      "source": [
        "# Criação de camadas da MLP]\n",
        "# A quantidade de neurônios por camada está definida no incio do Dense;\n",
        "# Função de ativação utilizada: RELU;\n",
        "# Foram criadas 5 camadas: A primeira de entrada, Três ocultas e a última de Saída.\n",
        "def build_model():\n",
        "  model = keras.Sequential([\n",
        "    layers.Dense(64, activation='relu', input_shape=[len(train_dataset.keys())]),\n",
        "    layers.Dense(128, activation='relu'),\n",
        "    layers.Dense(32, activation='relu'),\n",
        "    layers.Dense(16, activation='relu'),\n",
        "    layers.Dense(1)\n",
        "  ])\n",
        "\n",
        "# optimizer = tf.keras.optimizers.RMSprop(0.001)\n",
        "# Configura o Modelo para treinamento.\n",
        "# Loss: mean squared error (erro quadrático médio);\n",
        "# Metrics: mean absolute error (erro absoluto médio) \n",
        "# e mean squared error (erro quadrático médio)\n",
        "  model.compile(loss='mse',optimizer='adam',metrics=['mae', 'mse'])\n",
        "  return model"
      ],
      "execution_count": 0,
      "outputs": []
    },
    {
      "cell_type": "code",
      "metadata": {
        "id": "z5nAYlaCWqZJ",
        "colab_type": "code",
        "outputId": "e576068c-89e2-4e2d-8d98-7b66df8834aa",
        "colab": {
          "base_uri": "https://localhost:8080/",
          "height": 91
        }
      },
      "source": [
        "# Constrói o modelo.\n",
        "model = build_model()"
      ],
      "execution_count": 13,
      "outputs": [
        {
          "output_type": "stream",
          "text": [
            "WARNING:tensorflow:From /usr/local/lib/python3.6/dist-packages/tensorflow/python/ops/init_ops.py:1251: calling VarianceScaling.__init__ (from tensorflow.python.ops.init_ops) with dtype is deprecated and will be removed in a future version.\n",
            "Instructions for updating:\n",
            "Call initializer instance with the dtype argument instead of passing it to the constructor\n"
          ],
          "name": "stdout"
        }
      ]
    },
    {
      "cell_type": "code",
      "metadata": {
        "id": "SndNmvkuWutT",
        "colab_type": "code",
        "outputId": "c391b139-92af-4c2c-f0f6-dcdee7e0bb2a",
        "colab": {
          "base_uri": "https://localhost:8080/",
          "height": 392
        }
      },
      "source": [
        "# Printa de 100 em 100 Épocas os valores de perda, média de erro absoluto, média de erro quadrático.\n",
        "history = model.fit(normed_train_data, train_labels,epochs=1000, validation_split = 0.2, verbose=0, callbacks=[tfdocs.modeling.EpochDots()])"
      ],
      "execution_count": 14,
      "outputs": [
        {
          "output_type": "stream",
          "text": [
            "\n",
            "Epoch: 0, loss:26.8094,  mean_absolute_error:5.0980,  mean_squared_error:26.8094,  val_loss:17.2097,  val_mean_absolute_error:4.0591,  val_mean_squared_error:17.2097,  \n",
            "....................................................................................................\n",
            "Epoch: 100, loss:0.4330,  mean_absolute_error:0.5251,  mean_squared_error:0.4330,  val_loss:0.5201,  val_mean_absolute_error:0.5717,  val_mean_squared_error:0.5201,  \n",
            "....................................................................................................\n",
            "Epoch: 200, loss:0.4381,  mean_absolute_error:0.5223,  mean_squared_error:0.4381,  val_loss:0.4825,  val_mean_absolute_error:0.5372,  val_mean_squared_error:0.4825,  \n",
            "....................................................................................................\n",
            "Epoch: 300, loss:0.4023,  mean_absolute_error:0.5033,  mean_squared_error:0.4023,  val_loss:0.5012,  val_mean_absolute_error:0.5286,  val_mean_squared_error:0.5012,  \n",
            "....................................................................................................\n",
            "Epoch: 400, loss:0.3759,  mean_absolute_error:0.4830,  mean_squared_error:0.3759,  val_loss:0.4582,  val_mean_absolute_error:0.5130,  val_mean_squared_error:0.4582,  \n",
            "....................................................................................................\n",
            "Epoch: 500, loss:0.3719,  mean_absolute_error:0.4793,  mean_squared_error:0.3719,  val_loss:0.4596,  val_mean_absolute_error:0.5219,  val_mean_squared_error:0.4596,  \n",
            "....................................................................................................\n",
            "Epoch: 600, loss:0.3688,  mean_absolute_error:0.4715,  mean_squared_error:0.3688,  val_loss:0.4712,  val_mean_absolute_error:0.5149,  val_mean_squared_error:0.4712,  \n",
            "....................................................................................................\n",
            "Epoch: 700, loss:0.3474,  mean_absolute_error:0.4597,  mean_squared_error:0.3474,  val_loss:0.4536,  val_mean_absolute_error:0.5062,  val_mean_squared_error:0.4536,  \n",
            "....................................................................................................\n",
            "Epoch: 800, loss:0.3438,  mean_absolute_error:0.4581,  mean_squared_error:0.3438,  val_loss:0.4633,  val_mean_absolute_error:0.5102,  val_mean_squared_error:0.4633,  \n",
            "....................................................................................................\n",
            "Epoch: 900, loss:0.3113,  mean_absolute_error:0.4363,  mean_squared_error:0.3113,  val_loss:0.4502,  val_mean_absolute_error:0.5075,  val_mean_squared_error:0.4502,  \n",
            "...................................................................................................."
          ],
          "name": "stdout"
        }
      ]
    },
    {
      "cell_type": "code",
      "metadata": {
        "id": "w16wk0yOd4cZ",
        "colab_type": "code",
        "outputId": "b4bc8a5d-0d5a-4c5c-95e9-bcc5923f4925",
        "colab": {
          "base_uri": "https://localhost:8080/",
          "height": 71
        }
      },
      "source": [
        "# The patience parameter is the amount of epochs to check for improvement\n",
        "early_stop = keras.callbacks.EarlyStopping(monitor='val_loss', patience=20)\n",
        "\n",
        "early_history = model.fit(normed_train_data, train_labels, epochs=1000, validation_split = 0.2, verbose=0, callbacks=[early_stop, tfdocs.modeling.EpochDots()])"
      ],
      "execution_count": 15,
      "outputs": [
        {
          "output_type": "stream",
          "text": [
            "\n",
            "Epoch: 0, loss:0.2968,  mean_absolute_error:0.4219,  mean_squared_error:0.2968,  val_loss:0.4873,  val_mean_absolute_error:0.5422,  val_mean_squared_error:0.4873,  \n",
            "..............................."
          ],
          "name": "stdout"
        }
      ]
    },
    {
      "cell_type": "code",
      "metadata": {
        "id": "fxl4f50qeBb1",
        "colab_type": "code",
        "outputId": "f460fb7d-a836-4068-e44e-227a89d48f04",
        "colab": {
          "base_uri": "https://localhost:8080/",
          "height": 53
        }
      },
      "source": [
        "loss, mae, mse = model.evaluate(normed_test_data, test_labels, verbose=2)\n",
        "print(\"Testing set Mean Abs Error: {:5.2f} \".format(mae))"
      ],
      "execution_count": 16,
      "outputs": [
        {
          "output_type": "stream",
          "text": [
            "320/320 - 0s - loss: 0.4580 - mean_absolute_error: 0.5057 - mean_squared_error: 0.4580\n",
            "Testing set Mean Abs Error:  0.51 \n"
          ],
          "name": "stdout"
        }
      ]
    },
    {
      "cell_type": "code",
      "metadata": {
        "id": "5RbgAMqGeQBX",
        "colab_type": "code",
        "outputId": "6d08b1a2-ce9d-4187-d14b-611bd6df1e3d",
        "colab": {
          "base_uri": "https://localhost:8080/",
          "height": 283
        }
      },
      "source": [
        "test_predictions = model.predict(normed_test_data).flatten()\n",
        "\n",
        "a = plt.axes(aspect='equal')\n",
        "plt.scatter(test_labels, test_predictions)\n",
        "plt.xlabel('Valores reais [Quality Score]')\n",
        "plt.ylabel('Valores preditos [Quality Score]')\n",
        "lims = [0, 10]\n",
        "plt.xlim(lims)\n",
        "plt.ylim(lims)\n",
        "_ = plt.plot(lims, lims)"
      ],
      "execution_count": 17,
      "outputs": [
        {
          "output_type": "display_data",
          "data": {
            "image/png": "[encoded data removed]",
            "text/plain": [
              "<Figure size 432x288 with 1 Axes>"
            ]
          },
          "metadata": {
            "tags": [],
            "needs_background": "light"
          }
        }
      ]
    },
    {
      "cell_type": "code",
      "metadata": {
        "id": "Jh-TCjK5eSPU",
        "colab_type": "code",
        "outputId": "d5c249bb-2c5e-421e-c7a7-6aecc19445e8",
        "colab": {
          "base_uri": "https://localhost:8080/",
          "height": 35
        }
      },
      "source": [
        "test_predictions.min()"
      ],
      "execution_count": 18,
      "outputs": [
        {
          "output_type": "execute_result",
          "data": {
            "text/plain": [
              "4.2794085"
            ]
          },
          "metadata": {
            "tags": []
          },
          "execution_count": 18
        }
      ]
    },
    {
      "cell_type": "code",
      "metadata": {
        "id": "rg0n7TsfeXMb",
        "colab_type": "code",
        "outputId": "c36db2df-e46b-47f2-81e5-9412a44ae9de",
        "colab": {
          "base_uri": "https://localhost:8080/",
          "height": 35
        }
      },
      "source": [
        "test_predictions.mean()"
      ],
      "execution_count": 19,
      "outputs": [
        {
          "output_type": "execute_result",
          "data": {
            "text/plain": [
              "5.577428"
            ]
          },
          "metadata": {
            "tags": []
          },
          "execution_count": 19
        }
      ]
    },
    {
      "cell_type": "code",
      "metadata": {
        "id": "Otnwtw3HeaV9",
        "colab_type": "code",
        "outputId": "d7d0d45f-daba-4a36-ffc4-e7e4880132fe",
        "colab": {
          "base_uri": "https://localhost:8080/",
          "height": 35
        }
      },
      "source": [
        "test_predictions.max()"
      ],
      "execution_count": 20,
      "outputs": [
        {
          "output_type": "execute_result",
          "data": {
            "text/plain": [
              "9.640886"
            ]
          },
          "metadata": {
            "tags": []
          },
          "execution_count": 20
        }
      ]
    },
    {
      "cell_type": "code",
      "metadata": {
        "id": "vc99lkRNefiI",
        "colab_type": "code",
        "outputId": "007f42ba-1d8d-42c0-bd54-d2715db2d8b6",
        "colab": {
          "base_uri": "https://localhost:8080/",
          "height": 279
        }
      },
      "source": [
        "error = test_predictions - test_labels\n",
        "plt.hist(error, bins = 25)\n",
        "plt.xlabel(\"Prediction Error [QUALITY]\")\n",
        "_ = plt.ylabel(\"Count\")"
      ],
      "execution_count": 21,
      "outputs": [
        {
          "output_type": "display_data",
          "data": {
            "image/png": "[encoded data removed]",
            "text/plain": [
              "<Figure size 432x288 with 1 Axes>"
            ]
          },
          "metadata": {
            "tags": [],
            "needs_background": "light"
          }
        }
      ]
    },
    {
      "cell_type": "code",
      "metadata": {
        "id": "3ys0aZZwekpq",
        "colab_type": "code",
        "colab": {}
      },
      "source": [
        "new_pred = model.predict(normalize(np.array([[7.4 , 1.185,0 , 4.25 , 0.0969999999999999 , 5 , 14 , 0.9966 , 3.63 , 0.54 , 10.7]])))"
      ],
      "execution_count": 0,
      "outputs": []
    },
    {
      "cell_type": "code",
      "metadata": {
        "id": "YKkgWEiIepKl",
        "colab_type": "code",
        "outputId": "20af401a-e48f-49aa-dfdd-f9e0dc9a5d51",
        "colab": {
          "base_uri": "https://localhost:8080/",
          "height": 35
        }
      },
      "source": [
        "new_pred.flatten()[0]"
      ],
      "execution_count": 23,
      "outputs": [
        {
          "output_type": "execute_result",
          "data": {
            "text/plain": [
              "4.031018"
            ]
          },
          "metadata": {
            "tags": []
          },
          "execution_count": 23
        }
      ]
    }
  ]
}